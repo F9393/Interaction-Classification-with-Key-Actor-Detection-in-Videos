{
 "cells": [
  {
   "cell_type": "markdown",
   "metadata": {},
   "source": [
    "## Hockey Dataset Analysis"
   ]
  },
  {
   "cell_type": "code",
   "execution_count": 1,
   "metadata": {},
   "outputs": [],
   "source": [
    "from collections import defaultdict, OrderedDict\n",
    "import matplotlib.pyplot as plt\n",
    "from matplotlib.image import imread\n",
    "import numpy as np\n",
    "import glob\n",
    "import os\n",
    "from PIL import Image\n",
    "from pathlib import Path\n",
    "import json\n",
    "from sklearn.model_selection import train_test_split\n",
    "\n",
    "%matplotlib inline"
   ]
  },
  {
   "cell_type": "code",
   "execution_count": 2,
   "metadata": {},
   "outputs": [],
   "source": [
    "dataset_dir = \"./hockey_dataset\""
   ]
  },
  {
   "cell_type": "markdown",
   "metadata": {},
   "source": [
    "### Classes"
   ]
  },
  {
   "cell_type": "code",
   "execution_count": 3,
   "metadata": {},
   "outputs": [],
   "source": [
    "CATEGORY_TO_IDX = {\"No_penalty\":0, \"Slashing\":1, \"Tripping\":2}\n",
    "\n",
    "IDX_TO_CATEGORY = {\n",
    "    0: \"No_penalty\",\n",
    "    1: \"Slashing\",\n",
    "    2: \"Tripping\"\n",
    "}"
   ]
  },
  {
   "cell_type": "code",
   "execution_count": 4,
   "metadata": {},
   "outputs": [
    {
     "ename": "ValueError",
     "evalue": "With n_samples=0, test_size=0.1 and train_size=None, the resulting train set will be empty. Adjust any of the aforementioned parameters.",
     "output_type": "error",
     "traceback": [
      "\u001B[0;31m---------------------------------------------------------------------------\u001B[0m",
      "\u001B[0;31mValueError\u001B[0m                                Traceback (most recent call last)",
      "\u001B[0;32m/tmp/ipykernel_450121/439078320.py\u001B[0m in \u001B[0;36m<module>\u001B[0;34m\u001B[0m\n\u001B[1;32m      1\u001B[0m \u001B[0mall_video_dirs\u001B[0m \u001B[0;34m=\u001B[0m \u001B[0mglob\u001B[0m\u001B[0;34m.\u001B[0m\u001B[0mglob\u001B[0m\u001B[0;34m(\u001B[0m\u001B[0mos\u001B[0m\u001B[0;34m.\u001B[0m\u001B[0mpath\u001B[0m\u001B[0;34m.\u001B[0m\u001B[0mjoin\u001B[0m\u001B[0;34m(\u001B[0m\u001B[0mdataset_dir\u001B[0m\u001B[0;34m,\u001B[0m \u001B[0;34m'*'\u001B[0m\u001B[0;34m,\u001B[0m \u001B[0;34m'*'\u001B[0m\u001B[0;34m)\u001B[0m\u001B[0;34m)\u001B[0m\u001B[0;34m\u001B[0m\u001B[0;34m\u001B[0m\u001B[0m\n\u001B[1;32m      2\u001B[0m \u001B[0mpenalty_idxs\u001B[0m \u001B[0;34m=\u001B[0m \u001B[0;34m[\u001B[0m\u001B[0mCATEGORY_TO_IDX\u001B[0m\u001B[0;34m[\u001B[0m\u001B[0mos\u001B[0m\u001B[0;34m.\u001B[0m\u001B[0mpath\u001B[0m\u001B[0;34m.\u001B[0m\u001B[0mbasename\u001B[0m\u001B[0;34m(\u001B[0m\u001B[0mPath\u001B[0m\u001B[0;34m(\u001B[0m\u001B[0mx\u001B[0m\u001B[0;34m)\u001B[0m\u001B[0;34m.\u001B[0m\u001B[0mparents\u001B[0m\u001B[0;34m[\u001B[0m\u001B[0;36m0\u001B[0m\u001B[0;34m]\u001B[0m\u001B[0;34m)\u001B[0m\u001B[0;34m]\u001B[0m \u001B[0;32mfor\u001B[0m \u001B[0mx\u001B[0m \u001B[0;32min\u001B[0m \u001B[0mall_video_dirs\u001B[0m\u001B[0;34m]\u001B[0m\u001B[0;34m\u001B[0m\u001B[0;34m\u001B[0m\u001B[0m\n\u001B[0;32m----> 3\u001B[0;31m \u001B[0mX_tv_dirs\u001B[0m\u001B[0;34m,\u001B[0m \u001B[0mX_test_dirs\u001B[0m\u001B[0;34m,\u001B[0m \u001B[0my_tv\u001B[0m\u001B[0;34m,\u001B[0m \u001B[0my_test\u001B[0m \u001B[0;34m=\u001B[0m \u001B[0mtrain_test_split\u001B[0m\u001B[0;34m(\u001B[0m\u001B[0mall_video_dirs\u001B[0m\u001B[0;34m,\u001B[0m \u001B[0mpenalty_idxs\u001B[0m\u001B[0;34m,\u001B[0m \u001B[0mtest_size\u001B[0m\u001B[0;34m=\u001B[0m\u001B[0;36m0.1\u001B[0m\u001B[0;34m,\u001B[0m \u001B[0mrandom_state\u001B[0m\u001B[0;34m=\u001B[0m\u001B[0;36m42\u001B[0m\u001B[0;34m,\u001B[0m \u001B[0mstratify\u001B[0m\u001B[0;34m=\u001B[0m\u001B[0mpenalty_idxs\u001B[0m\u001B[0;34m)\u001B[0m\u001B[0;34m\u001B[0m\u001B[0;34m\u001B[0m\u001B[0m\n\u001B[0m\u001B[1;32m      4\u001B[0m \u001B[0mX_train_dirs\u001B[0m\u001B[0;34m,\u001B[0m \u001B[0mX_val_dirs\u001B[0m\u001B[0;34m,\u001B[0m \u001B[0my_train\u001B[0m\u001B[0;34m,\u001B[0m \u001B[0my_val\u001B[0m \u001B[0;34m=\u001B[0m \u001B[0mtrain_test_split\u001B[0m\u001B[0;34m(\u001B[0m\u001B[0mX_tv_dirs\u001B[0m\u001B[0;34m,\u001B[0m \u001B[0my_tv\u001B[0m\u001B[0;34m,\u001B[0m \u001B[0mtest_size\u001B[0m\u001B[0;34m=\u001B[0m\u001B[0;36m0.18\u001B[0m\u001B[0;34m,\u001B[0m \u001B[0mrandom_state\u001B[0m\u001B[0;34m=\u001B[0m\u001B[0;36m42\u001B[0m\u001B[0;34m,\u001B[0m \u001B[0mstratify\u001B[0m \u001B[0;34m=\u001B[0m \u001B[0my_tv\u001B[0m\u001B[0;34m)\u001B[0m\u001B[0;34m\u001B[0m\u001B[0;34m\u001B[0m\u001B[0m\n\u001B[1;32m      5\u001B[0m \u001B[0;34m\u001B[0m\u001B[0m\n",
      "\u001B[0;32m~/miniconda3/envs/env_motus/lib/python3.7/site-packages/sklearn/model_selection/_split.py\u001B[0m in \u001B[0;36mtrain_test_split\u001B[0;34m(test_size, train_size, random_state, shuffle, stratify, *arrays)\u001B[0m\n\u001B[1;32m   2419\u001B[0m     \u001B[0mn_samples\u001B[0m \u001B[0;34m=\u001B[0m \u001B[0m_num_samples\u001B[0m\u001B[0;34m(\u001B[0m\u001B[0marrays\u001B[0m\u001B[0;34m[\u001B[0m\u001B[0;36m0\u001B[0m\u001B[0;34m]\u001B[0m\u001B[0;34m)\u001B[0m\u001B[0;34m\u001B[0m\u001B[0;34m\u001B[0m\u001B[0m\n\u001B[1;32m   2420\u001B[0m     n_train, n_test = _validate_shuffle_split(\n\u001B[0;32m-> 2421\u001B[0;31m         \u001B[0mn_samples\u001B[0m\u001B[0;34m,\u001B[0m \u001B[0mtest_size\u001B[0m\u001B[0;34m,\u001B[0m \u001B[0mtrain_size\u001B[0m\u001B[0;34m,\u001B[0m \u001B[0mdefault_test_size\u001B[0m\u001B[0;34m=\u001B[0m\u001B[0;36m0.25\u001B[0m\u001B[0;34m\u001B[0m\u001B[0;34m\u001B[0m\u001B[0m\n\u001B[0m\u001B[1;32m   2422\u001B[0m     )\n\u001B[1;32m   2423\u001B[0m \u001B[0;34m\u001B[0m\u001B[0m\n",
      "\u001B[0;32m~/miniconda3/envs/env_motus/lib/python3.7/site-packages/sklearn/model_selection/_split.py\u001B[0m in \u001B[0;36m_validate_shuffle_split\u001B[0;34m(n_samples, test_size, train_size, default_test_size)\u001B[0m\n\u001B[1;32m   2099\u001B[0m             \u001B[0;34m\"With n_samples={}, test_size={} and train_size={}, the \"\u001B[0m\u001B[0;34m\u001B[0m\u001B[0;34m\u001B[0m\u001B[0m\n\u001B[1;32m   2100\u001B[0m             \u001B[0;34m\"resulting train set will be empty. Adjust any of the \"\u001B[0m\u001B[0;34m\u001B[0m\u001B[0;34m\u001B[0m\u001B[0m\n\u001B[0;32m-> 2101\u001B[0;31m             \u001B[0;34m\"aforementioned parameters.\"\u001B[0m\u001B[0;34m.\u001B[0m\u001B[0mformat\u001B[0m\u001B[0;34m(\u001B[0m\u001B[0mn_samples\u001B[0m\u001B[0;34m,\u001B[0m \u001B[0mtest_size\u001B[0m\u001B[0;34m,\u001B[0m \u001B[0mtrain_size\u001B[0m\u001B[0;34m)\u001B[0m\u001B[0;34m\u001B[0m\u001B[0;34m\u001B[0m\u001B[0m\n\u001B[0m\u001B[1;32m   2102\u001B[0m         )\n\u001B[1;32m   2103\u001B[0m \u001B[0;34m\u001B[0m\u001B[0m\n",
      "\u001B[0;31mValueError\u001B[0m: With n_samples=0, test_size=0.1 and train_size=None, the resulting train set will be empty. Adjust any of the aforementioned parameters."
     ]
    }
   ],
   "source": [
    "all_video_dirs = glob.glob(os.path.join(dataset_dir, '*', '*'))\n",
    "penalty_idxs = [CATEGORY_TO_IDX[os.path.basename(Path(x).parents[0])] for x in all_video_dirs]\n",
    "X_tv_dirs, X_test_dirs, y_tv, y_test = train_test_split(all_video_dirs, penalty_idxs, test_size=0.1, random_state=42, stratify=penalty_idxs)\n",
    "X_train_dirs, X_val_dirs, y_train, y_val = train_test_split(X_tv_dirs, y_tv, test_size=0.18, random_state=42, stratify = y_tv)"
   ]
  },
  {
   "cell_type": "markdown",
   "metadata": {},
   "source": [
    "### Data Split Statistics"
   ]
  },
  {
   "cell_type": "code",
   "execution_count": null,
   "metadata": {},
   "outputs": [],
   "source": [
    "print('*'*70)\n",
    "print('Distribution of Train Split')\n",
    "print('*'*70)\n",
    "\n",
    "train_dict = {}\n",
    "for imgd in X_train_dirs:\n",
    "    cat = os.path.basename(Path(imgd).parents[0])\n",
    "    train_dict[cat] = train_dict.setdefault(cat,0) + 1\n",
    "print(train_dict)\n",
    "    \n",
    "total = 0\n",
    "for idx,(key,val) in enumerate(train_dict.items()):\n",
    "    print(f'{idx+1}) {key} : {val}')\n",
    "    total += val\n",
    "\n",
    "print(f'total : {total}')"
   ]
  },
  {
   "cell_type": "code",
   "execution_count": null,
   "metadata": {},
   "outputs": [],
   "source": [
    "print('*'*70)\n",
    "print('Distribution of Val Split')\n",
    "print('*'*70)\n",
    "\n",
    "val_dict = {}\n",
    "for imgd in X_val_dirs:\n",
    "    cat = os.path.basename(Path(imgd).parents[0])\n",
    "    val_dict[cat] = val_dict.setdefault(cat,0) + 1\n",
    "    \n",
    "total = 0\n",
    "for idx,(key,val) in enumerate(val_dict.items()):\n",
    "    print(f'{idx+1}) {key} : {val}')\n",
    "    total += val\n",
    "\n",
    "print(f'total : {total}')"
   ]
  },
  {
   "cell_type": "code",
   "execution_count": null,
   "metadata": {},
   "outputs": [],
   "source": [
    "print('*'*70)\n",
    "print('Distribution of Test Split')\n",
    "print('*'*70)\n",
    "\n",
    "test_dict = {}\n",
    "for imgd in X_test_dirs:\n",
    "    cat = os.path.basename(Path(imgd).parents[0])\n",
    "    test_dict[cat] = test_dict.setdefault(cat,0) + 1\n",
    "    \n",
    "total = 0\n",
    "for idx,(key,val) in enumerate(test_dict.items()):\n",
    "    print(f'{idx+1}) {key} : {val}')\n",
    "    total += val\n",
    "\n",
    "print(f'total : {total}')"
   ]
  },
  {
   "cell_type": "markdown",
   "metadata": {},
   "source": [
    "### Pose Overlay"
   ]
  },
  {
   "cell_type": "code",
   "execution_count": null,
   "metadata": {},
   "outputs": [],
   "source": [
    "np.random.seed(42)\n",
    "COLORS = [\n",
    "    [255, 172, 0],\n",
    "    [223, 0, 255],\n",
    "    [12, 0, 255],\n",
    "    [0, 255, 178],\n",
    "    [31, 0, 255],\n",
    "    [0, 159, 255],\n",
    "    [255, 95, 0],\n",
    "    [255, 19, 0],\n",
    "    [255, 0, 0],\n",
    "    [255, 38, 0],\n",
    "    [0, 255, 25],\n",
    "    [255, 0, 133],\n",
    "    [0, 82, 255],\n",
    "]\n",
    "BODY_PAIRS = [\n",
    "    [0, 1],\n",
    "    [1, 2],\n",
    "    [1, 8],\n",
    "    [1, 11],\n",
    "    [1, 5],\n",
    "    [2, 3],\n",
    "    [3, 4],\n",
    "    [5, 6],\n",
    "    [6, 7],\n",
    "    [8, 9],\n",
    "    [9, 10],\n",
    "    [11, 12],\n",
    "    [12, 13],\n",
    "    [18, 19],\n",
    "]"
   ]
  },
  {
   "cell_type": "code",
   "execution_count": null,
   "metadata": {
    "scrolled": true
   },
   "outputs": [],
   "source": [
    "def plot_poses(action_no):\n",
    "\n",
    "    random_clip = np.random.choice(\n",
    "        os.listdir(os.path.join(dataset_dir, IDX_TO_CATEGORY[action_no]))\n",
    "    )\n",
    "    frames_path = os.path.join(dataset_dir, IDX_TO_CATEGORY[action_no], random_clip)\n",
    "    skeleton_path = os.path.join(\n",
    "        dataset_dir, IDX_TO_CATEGORY[action_no], random_clip, random_clip + \".json\"\n",
    "    )\n",
    "\n",
    "    print(f\"skeleton path = {skeleton_path}\")\n",
    "\n",
    "    player_color = {}\n",
    "    color_idx = 0\n",
    "\n",
    "    with open(skeleton_path, \"r\") as f:\n",
    "        data = json.load(f)\n",
    "\n",
    "    start = 0\n",
    "    end = 64\n",
    "\n",
    "    for frame_no in range(start, end):\n",
    "\n",
    "        frame_pose = data[frame_no]\n",
    "\n",
    "        player_poses = [\n",
    "            (pno, frame_pose[pno]) for pno in frame_pose.keys() if pno.startswith(\"p\")\n",
    "        ]\n",
    "\n",
    "        for pno, ppose in player_poses:\n",
    "            ppose_new = []\n",
    "            for i in range(0, len(ppose), 3):\n",
    "                x = ppose[i]\n",
    "                y = ppose[i + 1]\n",
    "                c = ppose[i + 2]\n",
    "\n",
    "                if x <= 2 and y <= 2:\n",
    "                    ppose_new.extend([0, 0, c])\n",
    "                else:\n",
    "                    ppose_new.extend([x, y, c])\n",
    "            ppose = ppose_new\n",
    "            if pno not in player_color:\n",
    "                player_color[pno] = COLORS[color_idx]\n",
    "                color_idx += 1\n",
    "\n",
    "            for jidx in range(0, len(ppose), 3):\n",
    "                x = ppose[jidx]\n",
    "                y = ppose[jidx + 1]\n",
    "                c = ppose[jidx + 2]\n",
    "                if not (x == 0 and y == 0):\n",
    "                    plt.plot(x, y, marker=\"o\", color=np.array(player_color[pno]) / 255)\n",
    "            for j1, j2 in BODY_PAIRS:\n",
    "                x1 = ppose[3 * j1]\n",
    "                x2 = ppose[3 * j2]\n",
    "                y1 = ppose[3 * j1 + 1]\n",
    "                y2 = ppose[3 * j2 + 1]\n",
    "                if not (x1 == 0 and y1 == 0) and not (x2 == 0 and y2 == 0):\n",
    "                    plt.plot(\n",
    "                        (x1, x2), (y1, y2), color=np.array(player_color[pno]) / 255\n",
    "                    )\n",
    "\n",
    "        frame_name = \"frame_%04d.png\" % int(frame_no)\n",
    "        img_path = os.path.join(\n",
    "            dataset_dir, IDX_TO_CATEGORY[action_no], random_clip, frame_name\n",
    "        )\n",
    "        img = np.array(plt.imread(img_path))\n",
    "        plt.imshow(img, origin=\"upper\")\n",
    "        plt.title(frame_name)\n",
    "        plt.pause(0.1)\n",
    "        plt.clf()\n"
   ]
  },
  {
   "cell_type": "code",
   "execution_count": null,
   "metadata": {
    "scrolled": true
   },
   "outputs": [],
   "source": [
    "action_no = 2\n",
    "\n",
    "plot_poses(action_no)"
   ]
  },
  {
   "cell_type": "code",
   "execution_count": null,
   "metadata": {},
   "outputs": [],
   "source": []
  }
 ],
 "metadata": {
  "kernelspec": {
   "display_name": "Python 3",
   "language": "python",
   "name": "python3"
  },
  "language_info": {
   "codemirror_mode": {
    "name": "ipython",
    "version": 3
   },
   "file_extension": ".py",
   "mimetype": "text/x-python",
   "name": "python",
   "nbconvert_exporter": "python",
   "pygments_lexer": "ipython3",
   "version": "3.7.4"
  },
  "varInspector": {
   "cols": {
    "lenName": 16,
    "lenType": 16,
    "lenVar": 40
   },
   "kernels_config": {
    "python": {
     "delete_cmd_postfix": "",
     "delete_cmd_prefix": "del ",
     "library": "var_list.py",
     "varRefreshCmd": "print(var_dic_list())"
    },
    "r": {
     "delete_cmd_postfix": ") ",
     "delete_cmd_prefix": "rm(",
     "library": "var_list.r",
     "varRefreshCmd": "cat(var_dic_list()) "
    }
   },
   "position": {
    "height": "144px",
    "left": "1288px",
    "right": "20px",
    "top": "119px",
    "width": "350px"
   },
   "types_to_exclude": [
    "module",
    "function",
    "builtin_function_or_method",
    "instance",
    "_Feature"
   ],
   "window_display": true
  }
 },
 "nbformat": 4,
 "nbformat_minor": 4
}