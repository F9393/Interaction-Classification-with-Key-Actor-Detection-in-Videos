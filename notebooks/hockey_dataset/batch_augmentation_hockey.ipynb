{
 "cells": [
  {
   "cell_type": "code",
   "execution_count": null,
   "id": "2cf42d86",
   "metadata": {},
   "outputs": [],
   "source": [
    "import imageio\n",
    "import imgaug as ia\n",
    "from imgaug.augmentables.kps import Keypoint\n",
    "from imgaug.augmentables.kps import Keypoint, KeypointsOnImage\n",
    "import imgaug.augmenters as iaa\n",
    "import numpy as np\n",
    "\n",
    "ia.seed(3)\n",
    "%matplotlib inline"
   ]
  },
  {
   "cell_type": "code",
   "execution_count": null,
   "id": "4d576cb2",
   "metadata": {},
   "outputs": [],
   "source": [
    "import os\n",
    "import json\n",
    "import os.path as osp\n",
    "from os.path import isdir, join\n",
    "import re"
   ]
  },
  {
   "cell_type": "code",
   "execution_count": null,
   "id": "b2cec166",
   "metadata": {},
   "outputs": [],
   "source": [
    "dataset_dir = \"./hockey_dataset\"\n",
    "SERIES = [\"Tripping\", \"Slashing\", \"No_penalty\"]"
   ]
  },
  {
   "cell_type": "code",
   "execution_count": null,
   "id": "52e74d68",
   "metadata": {},
   "outputs": [],
   "source": [
    "def read_image(image_dir, frame_no):\n",
    "\n",
    "    frame_name = \"frame_%04d.png\" % int(frame_no)\n",
    "    image = imageio.imread(osp.join(image_dir, frame_name))\n",
    "    image = ia.imresize_single_image(image, (360, 640))\n",
    "    #         ia.imshow(image)\n",
    "\n",
    "    return image"
   ]
  },
  {
   "cell_type": "code",
   "execution_count": null,
   "id": "19a74389",
   "metadata": {},
   "outputs": [],
   "source": [
    "def atoi(text):\n",
    "    return int(text) if text.isdigit() else text\n",
    "\n",
    "\n",
    "def natural_keys(text):\n",
    "    return [atoi(c) for c in re.split(r\"(\\d+)\", text)]\n",
    "\n",
    "\n",
    "def get_players(pose):\n",
    "\n",
    "    keys = set().union(*(d.keys() for d in pose))\n",
    "    keys.remove(\"frameNum\")\n",
    "    all_players = list(keys)\n",
    "    all_players.sort(key=natural_keys)\n",
    "\n",
    "    return all_players"
   ]
  },
  {
   "cell_type": "code",
   "execution_count": null,
   "id": "4f4e8f58",
   "metadata": {},
   "outputs": [],
   "source": [
    "def get_keypoints(frame_no, players, pose, kps, kps_meta):\n",
    "    body = pose[frame_no]\n",
    "    for key in players:\n",
    "        player_body = body[key]\n",
    "        for i in range(0, 48, 3):\n",
    "            x = player_body[i]\n",
    "            y = player_body[i + 1]\n",
    "            kps.append(Keypoint(x, y))\n",
    "            meta = [frame_no, key, i]\n",
    "            kps_meta.append(meta)\n",
    "\n",
    "    return kps, kps_meta"
   ]
  },
  {
   "cell_type": "code",
   "execution_count": null,
   "id": "78711ca5",
   "metadata": {},
   "outputs": [],
   "source": [
    "# def flip():\n",
    "\n",
    "#     seq = iaa.Sequential([\n",
    "#     iaa.flip.Fliplr(p=1)])\n",
    "#     seq_det = seq.to_deterministic()\n",
    "\n",
    "#     return seq_det"
   ]
  },
  {
   "cell_type": "code",
   "execution_count": null,
   "id": "9ecd8cbb",
   "metadata": {},
   "outputs": [],
   "source": [
    "import random\n",
    "\n",
    "\n",
    "def pers_scale(affine_scale, pers_scale):\n",
    "\n",
    "    choice = random.randint(0, 1)\n",
    "    #     print(choice)\n",
    "\n",
    "    if choice == 0:\n",
    "        # perspective\n",
    "\n",
    "        print(\"perspective\" + str(pers_scale))\n",
    "        seq = iaa.Sequential([iaa.PerspectiveTransform(scale=(pers_scale, pers_scale))])\n",
    "        seq_det = seq.to_deterministic()\n",
    "\n",
    "    elif choice == 1:\n",
    "        # scale\n",
    "        print(\"scale\" + str(affine_scale))\n",
    "        seq = iaa.Sequential([iaa.Affine(scale=(affine_scale, affine_scale))])\n",
    "        seq_det = seq.to_deterministic()\n",
    "\n",
    "    return seq_det"
   ]
  },
  {
   "cell_type": "code",
   "execution_count": null,
   "id": "65e6b337",
   "metadata": {},
   "outputs": [],
   "source": [
    "def test_draw(frame, frame_aug, kpsoi, kpsoi_aug):\n",
    "    ia.imshow(\n",
    "        np.hstack(\n",
    "            [\n",
    "                kpsoi.draw_on_image(frame, size=7),\n",
    "                kpsoi_aug.draw_on_image(frame_aug, size=7),\n",
    "            ]\n",
    "        )\n",
    "    )"
   ]
  },
  {
   "cell_type": "code",
   "execution_count": null,
   "id": "e0c2c337",
   "metadata": {},
   "outputs": [],
   "source": [
    "def Augment_2(image_dir, pose):\n",
    "    keypoints_augment = []\n",
    "    keypoints_meta = []\n",
    "    frames_augment = np.zeros((64, 360, 640, 3))\n",
    "\n",
    "    per_scale = [0.05, 0.06, 0.07, 0.08, 0.09, 0.1]\n",
    "    affine_sclae = [1.2, 1.3, 1.4, 1.5]\n",
    "\n",
    "    per_rand = random.randint(0, 5)\n",
    "    affine_rand = random.randint(0, 3)\n",
    "\n",
    "    affine_augmenter = pers_scale(\n",
    "        affine_scale=affine_sclae[affine_rand], pers_scale=per_scale[per_rand]\n",
    "    )\n",
    "\n",
    "    for frame_no in range(64):\n",
    "\n",
    "        kps = []\n",
    "        kps_meta = []\n",
    "        frame = read_image(image_dir, frame_no)\n",
    "        players = get_players(pose)\n",
    "        kps, kps_meta = get_keypoints(frame_no, players, pose, kps, kps_meta)\n",
    "        kpsoi = KeypointsOnImage(kps, shape=frame.shape)\n",
    "        frame_aug, kpsoi_aug = affine_augmenter(image=frame, keypoints=kpsoi)\n",
    "        #         test_draw(frame, frame_aug, kpsoi, kpsoi_aug )\n",
    "        frames_augment[frame_no, :, :, :] = frame_aug\n",
    "        kpsoi_aug = [kpsoi_aug]\n",
    "        keypoints_augment.append(kpsoi_aug)\n",
    "        keypoints_meta.append(kps_meta)\n",
    "\n",
    "    return keypoints_augment, frames_augment, keypoints_meta"
   ]
  },
  {
   "cell_type": "code",
   "execution_count": null,
   "id": "f7f37650",
   "metadata": {},
   "outputs": [],
   "source": [
    "# def Augment(image_dir, pose):\n",
    "#     keypoints_augment = []\n",
    "#     keypoints_meta = []\n",
    "#     frames_augment = np.zeros((64,360,640,3))\n",
    "#     flip_augmenter = flip()\n",
    "\n",
    "#     for frame_no in range(64):\n",
    "\n",
    "#         kps = []\n",
    "#         kps_meta = []\n",
    "#         frame = read_image(image_dir, frame_no)\n",
    "#         players = get_players(pose)\n",
    "#         kps, kps_meta = get_keypoints(frame_no, players, pose, kps, kps_meta)\n",
    "#         kpsoi = KeypointsOnImage(kps, shape=frame.shape)\n",
    "#         frame_aug, kpsoi_aug = flip_augmenter(image=frame, keypoints=kpsoi)\n",
    "# #         test_draw(frame, frame_aug, kpsoi, kpsoi_aug )\n",
    "#         frames_augment[frame_no,:,:,:] = frame_aug\n",
    "#         kpsoi_aug = [kpsoi_aug]\n",
    "#         keypoints_augment.append(kpsoi_aug)\n",
    "#         keypoints_meta.append(kps_meta)\n",
    "\n",
    "#     return keypoints_augment, frames_augment, keypoints_meta"
   ]
  },
  {
   "cell_type": "code",
   "execution_count": null,
   "id": "fadd6bec",
   "metadata": {},
   "outputs": [],
   "source": [
    "def write_image(dest_frame_pose_path, frames_augment):\n",
    "\n",
    "    for frame_no in range(frames_augment.shape[0]):\n",
    "\n",
    "        image = frames_augment[frame_no, :, :, :]\n",
    "        image_uint8 = image.astype(np.uint8)\n",
    "        frame_name = \"frame_%04d.png\" % int(frame_no)\n",
    "        imageio.imsave(osp.join(dest_frame_pose_path, frame_name), image_uint8)\n",
    "\n",
    "    print(dest_frame_pose_path)"
   ]
  },
  {
   "cell_type": "code",
   "execution_count": null,
   "id": "5eedfee1",
   "metadata": {},
   "outputs": [],
   "source": [
    "def write_pose(dest_frame_pose_path, keypoints_augment, keypoints_meta):\n",
    "\n",
    "    json_list_of_dict = []\n",
    "    flat_keypoints_augment = [item for sublist in keypoints_augment for item in sublist]\n",
    "    print(dest_frame_pose_path)\n",
    "    for frame_no, (pose_aug, pose_meta) in enumerate(\n",
    "        zip(flat_keypoints_augment, keypoints_meta)\n",
    "    ):\n",
    "        json_dict = {}\n",
    "        json_dict[\"frameNum\"] = frame_no\n",
    "        for idx, (coord, meta) in enumerate(zip(pose_aug, pose_meta)):\n",
    "            player = meta[1]\n",
    "            xy = [coord.x, coord.y, 1.0]\n",
    "            json_dict.setdefault(player, []).extend(xy)\n",
    "\n",
    "        json_list_of_dict.append(json_dict)\n",
    "\n",
    "    name = os.path.split(dest_frame_pose_path)[-1]\n",
    "    save_path = os.path.join(dest_frame_pose_path, name + \".json\")\n",
    "    with open(save_path, \"w\") as file:\n",
    "        json.dump(eval(str(json_list_of_dict)), file, ensure_ascii=False, indent=4)\n",
    "\n",
    "\n",
    "#     print(json_list_of_dict)"
   ]
  },
  {
   "cell_type": "code",
   "execution_count": null,
   "id": "d54fe3d3",
   "metadata": {},
   "outputs": [],
   "source": [
    "dest_dir = \"./aug_hockey_dataset2\"\n",
    "SERIES = [\"Tripping\", \"Slashing\", \"No_penalty\"]\n",
    "\n",
    "if not os.path.exists(dest_dir):\n",
    "    os.makedirs(dest_dir)"
   ]
  },
  {
   "cell_type": "code",
   "execution_count": null,
   "id": "728594b2",
   "metadata": {
    "pycharm": {
     "is_executing": true
    },
    "scrolled": false
   },
   "outputs": [],
   "source": [
    "# for series_no in SERIES:\n",
    "#     count = 0\n",
    "#     dest_sub_folder = os.path.join(dest_dir, series_no)\n",
    "#     if not os.path.exists(dest_sub_folder):\n",
    "#         os.makedirs(dest_sub_folder)\n",
    "\n",
    "#     for video in os.listdir(osp.join(dataset_dir, series_no)):\n",
    "#         with open(osp.join(dataset_dir, series_no, video, video + \".json\"), 'r') as f:\n",
    "#             pose =  json.load(f)\n",
    "\n",
    "#         keypoints_augment, frames_augment, keypoints_meta  = Augment(osp.join(dataset_dir, series_no, video), pose)\n",
    "#         count = count +1\n",
    "\n",
    "#         dest_frame_pose_path = os.path.join(dest_sub_folder, video + \"100\")\n",
    "\n",
    "#         if not os.path.exists(dest_frame_pose_path):\n",
    "#             os.makedirs(dest_frame_pose_path)\n",
    "\n",
    "#         write_image(dest_frame_pose_path, frames_augment)\n",
    "#         write_pose(dest_frame_pose_path, keypoints_augment, keypoints_meta)\n",
    "\n",
    "#     print(count)"
   ]
  },
  {
   "cell_type": "code",
   "execution_count": null,
   "id": "ec562092",
   "metadata": {},
   "outputs": [],
   "source": [
    "####number 2\n",
    "\n",
    "for series_no in SERIES:\n",
    "    count = 0\n",
    "    dest_sub_folder = os.path.join(dest_dir, series_no)\n",
    "\n",
    "    if not os.path.exists(dest_sub_folder):\n",
    "        os.makedirs(dest_sub_folder)\n",
    "\n",
    "    for video in os.listdir(osp.join(dataset_dir, series_no)):\n",
    "\n",
    "        chance = random.uniform(0, 1)\n",
    "        print(chance)\n",
    "\n",
    "        print(os.path.join(dataset_dir, series_no, video))\n",
    "\n",
    "        with open(osp.join(dataset_dir, series_no, video, video + \".json\"), \"r\") as f:\n",
    "            pose = json.load(f)\n",
    "\n",
    "        #             a  = Augment_2(osp.join(dataset_dir, series_no, video), pose)\n",
    "        keypoints_augment, frames_augment, keypoints_meta = Augment_2(\n",
    "            osp.join(dataset_dir, series_no, video), pose\n",
    "        )\n",
    "        count = count + 1\n",
    "\n",
    "        dest_frame_pose_path = os.path.join(dest_sub_folder, video + \"200\")\n",
    "\n",
    "        if not os.path.exists(dest_frame_pose_path):\n",
    "            os.makedirs(dest_frame_pose_path)\n",
    "\n",
    "        write_image(dest_frame_pose_path, frames_augment)\n",
    "        write_pose(dest_frame_pose_path, keypoints_augment, keypoints_meta)\n",
    "\n",
    "    print(count)"
   ]
  },
  {
   "cell_type": "code",
   "execution_count": null,
   "id": "a3b6f6a6",
   "metadata": {
    "pycharm": {
     "is_executing": true
    }
   },
   "outputs": [],
   "source": []
  },
  {
   "cell_type": "code",
   "execution_count": null,
   "id": "04069fc3",
   "metadata": {},
   "outputs": [],
   "source": []
  }
 ],
 "metadata": {
  "kernelspec": {
   "display_name": "Python 3 (ipykernel)",
   "language": "python",
   "name": "python3"
  },
  "language_info": {
   "codemirror_mode": {
    "name": "ipython",
    "version": 3
   },
   "file_extension": ".py",
   "mimetype": "text/x-python",
   "name": "python",
   "nbconvert_exporter": "python",
   "pygments_lexer": "ipython3",
   "version": "3.7.11"
  }
 },
 "nbformat": 4,
 "nbformat_minor": 5
}