{
 "cells": [
  {
   "cell_type": "code",
   "execution_count": 1,
   "metadata": {},
   "outputs": [
    {
     "ename": "FileNotFoundError",
     "evalue": "No such file: '/home/fay/Desktop/Key-Actor-Detection/notebooks/hockey_dataset/_2017-11-05-col-nyi-home10/frame_0000.png'",
     "output_type": "error",
     "traceback": [
      "\u001B[0;31m---------------------------------------------------------------------------\u001B[0m",
      "\u001B[0;31mFileNotFoundError\u001B[0m                         Traceback (most recent call last)",
      "\u001B[0;32m/tmp/ipykernel_1165887/475525479.py\u001B[0m in \u001B[0;36m<module>\u001B[0;34m\u001B[0m\n\u001B[1;32m      5\u001B[0m \u001B[0;34m\u001B[0m\u001B[0m\n\u001B[1;32m      6\u001B[0m \u001B[0;34m\u001B[0m\u001B[0m\n\u001B[0;32m----> 7\u001B[0;31m \u001B[0mimage\u001B[0m \u001B[0;34m=\u001B[0m \u001B[0mimageio\u001B[0m\u001B[0;34m.\u001B[0m\u001B[0mimread\u001B[0m\u001B[0;34m(\u001B[0m\u001B[0;34m\"./_2017-11-05-col-nyi-home10/frame_0000.png\"\u001B[0m\u001B[0;34m)\u001B[0m\u001B[0;34m\u001B[0m\u001B[0;34m\u001B[0m\u001B[0m\n\u001B[0m\u001B[1;32m      8\u001B[0m \u001B[0;34m\u001B[0m\u001B[0m\n\u001B[1;32m      9\u001B[0m \u001B[0mimage\u001B[0m \u001B[0;34m=\u001B[0m \u001B[0mia\u001B[0m\u001B[0;34m.\u001B[0m\u001B[0mimresize_single_image\u001B[0m\u001B[0;34m(\u001B[0m\u001B[0mimage\u001B[0m\u001B[0;34m,\u001B[0m \u001B[0;34m(\u001B[0m\u001B[0;36m360\u001B[0m\u001B[0;34m,\u001B[0m \u001B[0;36m640\u001B[0m\u001B[0;34m)\u001B[0m\u001B[0;34m)\u001B[0m\u001B[0;34m\u001B[0m\u001B[0;34m\u001B[0m\u001B[0m\n",
      "\u001B[0;32m~/miniconda3/envs/env_motus/lib/python3.7/site-packages/imageio/__init__.py\u001B[0m in \u001B[0;36mimread\u001B[0;34m(uri, format, **kwargs)\u001B[0m\n\u001B[1;32m     84\u001B[0m         \u001B[0mto\u001B[0m \u001B[0msee\u001B[0m \u001B[0mwhat\u001B[0m \u001B[0marguments\u001B[0m \u001B[0mare\u001B[0m \u001B[0mavailable\u001B[0m \u001B[0;32mfor\u001B[0m \u001B[0ma\u001B[0m \u001B[0mparticular\u001B[0m \u001B[0mformat\u001B[0m\u001B[0;34m.\u001B[0m\u001B[0;34m\u001B[0m\u001B[0;34m\u001B[0m\u001B[0m\n\u001B[1;32m     85\u001B[0m     \"\"\"\n\u001B[0;32m---> 86\u001B[0;31m     \u001B[0;32mreturn\u001B[0m \u001B[0mimread_v2\u001B[0m\u001B[0;34m(\u001B[0m\u001B[0muri\u001B[0m\u001B[0;34m,\u001B[0m \u001B[0mformat\u001B[0m\u001B[0;34m=\u001B[0m\u001B[0mformat\u001B[0m\u001B[0;34m,\u001B[0m \u001B[0;34m**\u001B[0m\u001B[0mkwargs\u001B[0m\u001B[0;34m)\u001B[0m\u001B[0;34m\u001B[0m\u001B[0;34m\u001B[0m\u001B[0m\n\u001B[0m\u001B[1;32m     87\u001B[0m \u001B[0;34m\u001B[0m\u001B[0m\n\u001B[1;32m     88\u001B[0m \u001B[0;34m\u001B[0m\u001B[0m\n",
      "\u001B[0;32m~/miniconda3/envs/env_motus/lib/python3.7/site-packages/imageio/v2.py\u001B[0m in \u001B[0;36mimread\u001B[0;34m(uri, format, **kwargs)\u001B[0m\n\u001B[1;32m    157\u001B[0m         )\n\u001B[1;32m    158\u001B[0m \u001B[0;34m\u001B[0m\u001B[0m\n\u001B[0;32m--> 159\u001B[0;31m     \u001B[0;32mwith\u001B[0m \u001B[0mimopen\u001B[0m\u001B[0;34m(\u001B[0m\u001B[0muri\u001B[0m\u001B[0;34m,\u001B[0m \u001B[0;34m\"ri\"\u001B[0m\u001B[0;34m,\u001B[0m \u001B[0mplugin\u001B[0m\u001B[0;34m=\u001B[0m\u001B[0mformat\u001B[0m\u001B[0;34m)\u001B[0m \u001B[0;32mas\u001B[0m \u001B[0mfile\u001B[0m\u001B[0;34m:\u001B[0m\u001B[0;34m\u001B[0m\u001B[0;34m\u001B[0m\u001B[0m\n\u001B[0m\u001B[1;32m    160\u001B[0m         \u001B[0;32mreturn\u001B[0m \u001B[0mfile\u001B[0m\u001B[0;34m.\u001B[0m\u001B[0mread\u001B[0m\u001B[0;34m(\u001B[0m\u001B[0mindex\u001B[0m\u001B[0;34m=\u001B[0m\u001B[0;36m0\u001B[0m\u001B[0;34m,\u001B[0m \u001B[0;34m**\u001B[0m\u001B[0mkwargs\u001B[0m\u001B[0;34m)\u001B[0m\u001B[0;34m\u001B[0m\u001B[0;34m\u001B[0m\u001B[0m\n\u001B[1;32m    161\u001B[0m \u001B[0;34m\u001B[0m\u001B[0m\n",
      "\u001B[0;32m~/miniconda3/envs/env_motus/lib/python3.7/site-packages/imageio/core/imopen.py\u001B[0m in \u001B[0;36mimopen\u001B[0;34m(uri, io_mode, plugin, format_hint, legacy_mode, **kwargs)\u001B[0m\n\u001B[1;32m    160\u001B[0m         \u001B[0mrequest\u001B[0m\u001B[0;34m.\u001B[0m\u001B[0mformat_hint\u001B[0m \u001B[0;34m=\u001B[0m \u001B[0mformat_hint\u001B[0m\u001B[0;34m\u001B[0m\u001B[0;34m\u001B[0m\u001B[0m\n\u001B[1;32m    161\u001B[0m     \u001B[0;32melse\u001B[0m\u001B[0;34m:\u001B[0m\u001B[0;34m\u001B[0m\u001B[0;34m\u001B[0m\u001B[0m\n\u001B[0;32m--> 162\u001B[0;31m         \u001B[0mrequest\u001B[0m \u001B[0;34m=\u001B[0m \u001B[0mRequest\u001B[0m\u001B[0;34m(\u001B[0m\u001B[0muri\u001B[0m\u001B[0;34m,\u001B[0m \u001B[0mio_mode\u001B[0m\u001B[0;34m,\u001B[0m \u001B[0mformat_hint\u001B[0m\u001B[0;34m=\u001B[0m\u001B[0mformat_hint\u001B[0m\u001B[0;34m)\u001B[0m\u001B[0;34m\u001B[0m\u001B[0;34m\u001B[0m\u001B[0m\n\u001B[0m\u001B[1;32m    163\u001B[0m \u001B[0;34m\u001B[0m\u001B[0m\n\u001B[1;32m    164\u001B[0m     \u001B[0msource\u001B[0m \u001B[0;34m=\u001B[0m \u001B[0;34m\"<bytes>\"\u001B[0m \u001B[0;32mif\u001B[0m \u001B[0misinstance\u001B[0m\u001B[0;34m(\u001B[0m\u001B[0muri\u001B[0m\u001B[0;34m,\u001B[0m \u001B[0mbytes\u001B[0m\u001B[0;34m)\u001B[0m \u001B[0;32melse\u001B[0m \u001B[0muri\u001B[0m\u001B[0;34m\u001B[0m\u001B[0;34m\u001B[0m\u001B[0m\n",
      "\u001B[0;32m~/miniconda3/envs/env_motus/lib/python3.7/site-packages/imageio/core/request.py\u001B[0m in \u001B[0;36m__init__\u001B[0;34m(self, uri, mode, format_hint, **kwargs)\u001B[0m\n\u001B[1;32m    246\u001B[0m \u001B[0;34m\u001B[0m\u001B[0m\n\u001B[1;32m    247\u001B[0m         \u001B[0;31m# Parse what was given\u001B[0m\u001B[0;34m\u001B[0m\u001B[0;34m\u001B[0m\u001B[0;34m\u001B[0m\u001B[0m\n\u001B[0;32m--> 248\u001B[0;31m         \u001B[0mself\u001B[0m\u001B[0;34m.\u001B[0m\u001B[0m_parse_uri\u001B[0m\u001B[0;34m(\u001B[0m\u001B[0muri\u001B[0m\u001B[0;34m)\u001B[0m\u001B[0;34m\u001B[0m\u001B[0;34m\u001B[0m\u001B[0m\n\u001B[0m\u001B[1;32m    249\u001B[0m \u001B[0;34m\u001B[0m\u001B[0m\n\u001B[1;32m    250\u001B[0m         \u001B[0;31m# Set extension\u001B[0m\u001B[0;34m\u001B[0m\u001B[0;34m\u001B[0m\u001B[0;34m\u001B[0m\u001B[0m\n",
      "\u001B[0;32m~/miniconda3/envs/env_motus/lib/python3.7/site-packages/imageio/core/request.py\u001B[0m in \u001B[0;36m_parse_uri\u001B[0;34m(self, uri)\u001B[0m\n\u001B[1;32m    386\u001B[0m                 \u001B[0;31m# Reading: check that the file exists (but is allowed a dir)\u001B[0m\u001B[0;34m\u001B[0m\u001B[0;34m\u001B[0m\u001B[0;34m\u001B[0m\u001B[0m\n\u001B[1;32m    387\u001B[0m                 \u001B[0;32mif\u001B[0m \u001B[0;32mnot\u001B[0m \u001B[0mos\u001B[0m\u001B[0;34m.\u001B[0m\u001B[0mpath\u001B[0m\u001B[0;34m.\u001B[0m\u001B[0mexists\u001B[0m\u001B[0;34m(\u001B[0m\u001B[0mfn\u001B[0m\u001B[0;34m)\u001B[0m\u001B[0;34m:\u001B[0m\u001B[0;34m\u001B[0m\u001B[0;34m\u001B[0m\u001B[0m\n\u001B[0;32m--> 388\u001B[0;31m                     \u001B[0;32mraise\u001B[0m \u001B[0mFileNotFoundError\u001B[0m\u001B[0;34m(\u001B[0m\u001B[0;34m\"No such file: '%s'\"\u001B[0m \u001B[0;34m%\u001B[0m \u001B[0mfn\u001B[0m\u001B[0;34m)\u001B[0m\u001B[0;34m\u001B[0m\u001B[0;34m\u001B[0m\u001B[0m\n\u001B[0m\u001B[1;32m    389\u001B[0m             \u001B[0;32melse\u001B[0m\u001B[0;34m:\u001B[0m\u001B[0;34m\u001B[0m\u001B[0;34m\u001B[0m\u001B[0m\n\u001B[1;32m    390\u001B[0m                 \u001B[0;31m# Writing: check that the directory to write to does exist\u001B[0m\u001B[0;34m\u001B[0m\u001B[0;34m\u001B[0m\u001B[0;34m\u001B[0m\u001B[0m\n",
      "\u001B[0;31mFileNotFoundError\u001B[0m: No such file: '/home/fay/Desktop/Key-Actor-Detection/notebooks/hockey_dataset/_2017-11-05-col-nyi-home10/frame_0000.png'"
     ]
    }
   ],
   "source": [
    "import imageio\n",
    "import imgaug as ia\n",
    "\n",
    "%matplotlib inline\n",
    "\n",
    "\n",
    "image = imageio.imread(\"./_2017-11-05-col-nyi-home10/frame_0000.png\")\n",
    "\n",
    "image = ia.imresize_single_image(image, (360, 640))\n",
    "ia.imshow(image)"
   ]
  },
  {
   "cell_type": "code",
   "execution_count": null,
   "metadata": {},
   "outputs": [],
   "source": [
    "import json\n",
    "\n",
    "with open(\"./_2017-11-05-col-nyi-home10/_2017-11-05-col-nyi-home10.json\", \"r\") as f:\n",
    "    pose = json.load(f)\n",
    "\n",
    "frame_0_pose = pose[0]"
   ]
  },
  {
   "cell_type": "code",
   "execution_count": null,
   "metadata": {},
   "outputs": [],
   "source": [
    "keys = set().union(*(d.keys() for d in pose))\n",
    "keys.remove(\"frameNum\")\n",
    "all_players = list(keys)\n",
    "print(all_players)"
   ]
  },
  {
   "cell_type": "code",
   "execution_count": null,
   "metadata": {},
   "outputs": [],
   "source": [
    "from imgaug.augmentables.kps import Keypoint\n",
    "\n",
    "kps = []\n",
    "\n",
    "for key in all_players:\n",
    "    body = frame_0_pose[key]\n",
    "    for i in range(0, 48, 3):\n",
    "        #         print(key,i)\n",
    "        x = body[i]\n",
    "        y = body[i + 1]\n",
    "        kps.append(Keypoint(x, y))"
   ]
  },
  {
   "cell_type": "code",
   "execution_count": null,
   "metadata": {},
   "outputs": [],
   "source": [
    "from imgaug.augmentables.kps import Keypoint, KeypointsOnImage"
   ]
  },
  {
   "cell_type": "code",
   "execution_count": null,
   "metadata": {},
   "outputs": [],
   "source": [
    "kpsoi = KeypointsOnImage(kps, shape=image.shape)\n",
    "\n",
    "ia.imshow(kpsoi.draw_on_image(image, size=7))"
   ]
  },
  {
   "cell_type": "code",
   "execution_count": null,
   "metadata": {},
   "outputs": [],
   "source": [
    "import imgaug.augmenters as iaa\n",
    "\n",
    "ia.seed(3)\n",
    "\n",
    "# seq = iaa.Sequential([\n",
    "#     iaa.flip.Fliplr(p=1)\n",
    "#     #iaa.Affine(rotate=(180, 180))\n",
    "# ])\n",
    "\n",
    "seq = iaa.Sequential(\n",
    "    [\n",
    "        iaa.Affine(scale=(1.5, 1.5))\n",
    "        # iaa.Affine(rotate=(180, 180))\n",
    "    ]\n",
    ")"
   ]
  },
  {
   "cell_type": "code",
   "execution_count": null,
   "metadata": {},
   "outputs": [],
   "source": [
    "image_aug, kpsoi_aug = seq(image=image, keypoints=kpsoi)"
   ]
  },
  {
   "cell_type": "code",
   "execution_count": null,
   "metadata": {},
   "outputs": [],
   "source": [
    "import numpy as np\n",
    "\n",
    "ia.imshow(\n",
    "    np.hstack(\n",
    "        [kpsoi.draw_on_image(image, size=7), kpsoi_aug.draw_on_image(image_aug, size=7)]\n",
    "    )\n",
    ")"
   ]
  },
  {
   "cell_type": "code",
   "execution_count": null,
   "metadata": {},
   "outputs": [],
   "source": [
    "image_pad = ia.pad(image, left=100)\n",
    "kpsoi_pad = kpsoi.shift(x=100)\n",
    "ia.imshow(kpsoi_pad.draw_on_image(image_pad, size=7))"
   ]
  },
  {
   "cell_type": "code",
   "execution_count": null,
   "metadata": {},
   "outputs": [],
   "source": []
  }
 ],
 "metadata": {
  "kernelspec": {
   "display_name": "Python 3 (ipykernel)",
   "language": "python",
   "name": "python3"
  },
  "language_info": {
   "codemirror_mode": {
    "name": "ipython",
    "version": 3
   },
   "file_extension": ".py",
   "mimetype": "text/x-python",
   "name": "python",
   "nbconvert_exporter": "python",
   "pygments_lexer": "ipython3",
   "version": "3.7.11"
  }
 },
 "nbformat": 4,
 "nbformat_minor": 1
}