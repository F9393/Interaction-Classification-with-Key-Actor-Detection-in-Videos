{
 "cells": [
  {
   "cell_type": "code",
   "execution_count": null,
   "id": "046872bb",
   "metadata": {},
   "outputs": [],
   "source": [
    "from omegaconf import DictConfig, OmegaConf\n",
    "import hydra\n",
    "import pandas as pd\n",
    "\n",
    "from ax.service.ax_client import AxClient\n",
    "from ax.plot.contour import plot_contour\n",
    "from ax.plot.trace import optimization_trace_single_method\n",
    "from ax.service.managed_loop import optimize\n",
    "from ax.utils.notebook.plotting import render, init_notebook_plotting\n",
    "\n",
    "from hydra._internal.config_loader_impl import ConfigLoaderImpl \n",
    "from hydra.core.override_parser.overrides_parser import (\n",
    "    OverridesParser,\n",
    "    create_functions,\n",
    ")\n",
    "parser = OverridesParser(create_functions())\n",
    "\n",
    "import sys\n",
    "sys.path.insert(0, '..')\n",
    "\n",
    "from train import main"
   ]
  },
  {
   "cell_type": "code",
   "execution_count": null,
   "id": "69c270cf",
   "metadata": {},
   "outputs": [],
   "source": [
    "def map_params_to_arg_list(params):\n",
    "    \"\"\"Method to map a dictionary of params to a list of string arguments\"\"\"\n",
    "    arg_list = []\n",
    "    for key in params:\n",
    "        arg_list.append(str(key) + \"=\" + str(params[key]))\n",
    "    return arg_list\n"
   ]
  },
  {
   "cell_type": "code",
   "execution_count": null,
   "id": "7e79d26b",
   "metadata": {},
   "outputs": [],
   "source": [
    "opt_parameters = [\n",
    "    {\n",
    "        \"name\": \"dataset.training.learning_rate\",\n",
    "        \"type\": \"range\",\n",
    "        \"bounds\": [1e-6,1e-2],\n",
    "        \"value_type\": \"float\",  # Optional, defaults to inference from type of \"bounds\".\n",
    "        \"log_scale\": False,  # Optional, defaults to False.\n",
    "    },\n",
    "    {\n",
    "        \"name\": \"dataset.model4.eventLSTM.hidden_size\",\n",
    "        \"type\": \"range\",\n",
    "        \"bounds\": [128,256],\n",
    "        \"value_type\": \"int\",  # Optional, defaults to inference from type of \"bounds\".\n",
    "        \"log_scale\": False,  # Optional, defaults to False.\n",
    "    },\n",
    "    {\n",
    "        \"name\": \"dataset.model4.frameLSTM.hidden_size\",\n",
    "        \"type\": \"range\",\n",
    "        \"bounds\": [128,256],\n",
    "        \"value_type\": \"int\",  # Optional, defaults to inference from type of \"bounds\".\n",
    "        \"log_scale\": False,  # Optional, defaults to False.\n",
    "    }\n",
    "]"
   ]
  },
  {
   "cell_type": "code",
   "execution_count": null,
   "id": "73c0c1a8",
   "metadata": {},
   "outputs": [],
   "source": [
    "ax_client = AxClient()\n",
    "\n",
    "ax_client.create_experiment(\n",
    "    name=\"sbu-model4\",\n",
    "    parameters=opt_parameters,\n",
    "    objective_name=\"do_train\",\n",
    "    minimize=False,  # Optional, defaults to False.\n",
    "#     parameter_constraints=[\"x1 + x2 <= 2.0\"],  # Optional.\n",
    "#     outcome_constraints=[\"l2norm <= 1.25\"],  # Optional.\n",
    ")"
   ]
  },
  {
   "cell_type": "code",
   "execution_count": null,
   "id": "45077152",
   "metadata": {
    "scrolled": true
   },
   "outputs": [],
   "source": [
    "hydra.core.global_hydra.GlobalHydra.instance().clear()\n",
    "hydra.initialize(config_path=\"../configs\")\n",
    "CFG = hydra.compose(\"config.yaml\")\n",
    "\n",
    "print(OmegaConf.to_yaml(CFG, resolve=True))"
   ]
  },
  {
   "cell_type": "code",
   "execution_count": null,
   "id": "0c5b4fd1",
   "metadata": {},
   "outputs": [],
   "source": [
    "def do_train(parameters):\n",
    "    ovrr = map_params_to_arg_list(parameters)\n",
    "    ovrr = parser.parse_overrides(ovrr)\n",
    "        \n",
    "    ConfigLoaderImpl._apply_overrides_to_config(ovrr, CFG)\n",
    "    print(OmegaConf.to_yaml(CFG, resolve=True))\n",
    "    \n",
    "    return main(CFG)"
   ]
  },
  {
   "cell_type": "code",
   "execution_count": null,
   "id": "2beb65a5",
   "metadata": {
    "scrolled": true
   },
   "outputs": [],
   "source": [
    "for i in range(15):\n",
    "    curr_params, trial_index = ax_client.get_next_trial()\n",
    "    print(curr_params)\n",
    "    \n",
    "    ax_client.complete_trial(trial_index=trial_index, raw_data=do_train(curr_params))"
   ]
  },
  {
   "cell_type": "code",
   "execution_count": null,
   "id": "0c93cfcf",
   "metadata": {},
   "outputs": [],
   "source": [
    "with pd.option_context('display.max_rows', None, 'display.max_columns', None):\n",
    "    display(ax_client.generation_strategy.trials_as_df)"
   ]
  },
  {
   "cell_type": "code",
   "execution_count": null,
   "id": "b8b39a31",
   "metadata": {},
   "outputs": [],
   "source": [
    "best_parameters, values = ax_client.get_best_parameters()\n",
    "best_parameters"
   ]
  },
  {
   "cell_type": "code",
   "execution_count": null,
   "id": "5b12f7d3",
   "metadata": {},
   "outputs": [],
   "source": [
    "render(ax_client.get_contour_plot())"
   ]
  }
 ],
 "metadata": {
  "kernelspec": {
   "display_name": "Python 3 (ipykernel)",
   "language": "python",
   "name": "python3"
  },
  "language_info": {
   "codemirror_mode": {
    "name": "ipython",
    "version": 3
   },
   "file_extension": ".py",
   "mimetype": "text/x-python",
   "name": "python",
   "nbconvert_exporter": "python",
   "pygments_lexer": "ipython3",
   "version": "3.8.10"
  }
 },
 "nbformat": 4,
 "nbformat_minor": 5
}
