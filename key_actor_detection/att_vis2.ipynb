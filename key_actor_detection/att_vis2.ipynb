{
 "cells": [
  {
   "cell_type": "code",
   "execution_count": 1,
   "metadata": {},
   "outputs": [
    {
     "ename": "ModuleNotFoundError",
     "evalue": "No module named 'utils'",
     "output_type": "error",
     "traceback": [
      "\u001B[0;31m---------------------------------------------------------------------------\u001B[0m",
      "\u001B[0;31mModuleNotFoundError\u001B[0m                       Traceback (most recent call last)",
      "\u001B[0;32m/tmp/ipykernel_2856341/1274808749.py\u001B[0m in \u001B[0;36m<module>\u001B[0;34m\u001B[0m\n\u001B[1;32m      4\u001B[0m \u001B[0;32mimport\u001B[0m \u001B[0msys\u001B[0m\u001B[0;34m\u001B[0m\u001B[0;34m\u001B[0m\u001B[0m\n\u001B[1;32m      5\u001B[0m \u001B[0msys\u001B[0m\u001B[0;34m.\u001B[0m\u001B[0mpath\u001B[0m\u001B[0;34m.\u001B[0m\u001B[0minsert\u001B[0m\u001B[0;34m(\u001B[0m\u001B[0;36m0\u001B[0m\u001B[0;34m,\u001B[0m\u001B[0;34m'..'\u001B[0m\u001B[0;34m)\u001B[0m\u001B[0;34m\u001B[0m\u001B[0;34m\u001B[0m\u001B[0m\n\u001B[0;32m----> 6\u001B[0;31m \u001B[0;32mfrom\u001B[0m \u001B[0mutils\u001B[0m\u001B[0;34m.\u001B[0m\u001B[0mcheckpoint\u001B[0m \u001B[0;32mimport\u001B[0m \u001B[0mCheckPointer\u001B[0m\u001B[0;34m\u001B[0m\u001B[0;34m\u001B[0m\u001B[0m\n\u001B[0m\u001B[1;32m      7\u001B[0m \u001B[0;32mfrom\u001B[0m \u001B[0mmodels\u001B[0m\u001B[0;34m.\u001B[0m\u001B[0mencoder\u001B[0m \u001B[0;32mimport\u001B[0m \u001B[0mEncoder\u001B[0m\u001B[0;34m\u001B[0m\u001B[0;34m\u001B[0m\u001B[0m\n\u001B[1;32m      8\u001B[0m \u001B[0;32mfrom\u001B[0m \u001B[0mmodels\u001B[0m\u001B[0;34m.\u001B[0m\u001B[0mdecoder\u001B[0m \u001B[0;32mimport\u001B[0m \u001B[0mFrameLSTM\u001B[0m\u001B[0;34m,\u001B[0m \u001B[0mEventLSTM\u001B[0m\u001B[0;34m\u001B[0m\u001B[0;34m\u001B[0m\u001B[0m\n",
      "\u001B[0;31mModuleNotFoundError\u001B[0m: No module named 'utils'"
     ]
    }
   ],
   "source": [
    "import torch\n",
    "import torch.nn as nn\n",
    "\n",
    "import sys\n",
    "sys.path.insert(0,'..')\n",
    "from utils.checkpoint import CheckPointer\n",
    "from models.encoder import Encoder\n",
    "from models.decoder import FrameLSTM, EventLSTM\n",
    "from models.attention import Attention1,Attention2\n",
    "from models.models import Model3\n",
    "\n",
    "from collections import defaultdict, OrderedDict\n",
    "import matplotlib.pyplot as plt\n",
    "from matplotlib.image import imread\n",
    "import numpy as np\n",
    "import glob\n",
    "import os\n",
    "\n",
    "from PIL import Image\n",
    "import torch\n",
    "import torchvision.transforms as transforms\n",
    "from tqdm import tqdm\n",
    "import glob\n",
    "import pickle\n",
    "%load_ext autoreload\n",
    "%autoreload 2"
   ]
  },
  {
   "cell_type": "code",
   "execution_count": null,
   "metadata": {},
   "outputs": [],
   "source": [
    "joint_details = {1 : 'HEAD',\n",
    "                 2 : 'NECK',\n",
    "                 3 : 'RIGHT_SHOULDER',\n",
    "                 4 : 'RIGHT_ELBOW',\n",
    "                 5 : 'RIGHT_HAND',\n",
    "                 6 : 'LEFT_SHOULDER',\n",
    "                 7 : 'LEFT_ELBOW',\n",
    "                 8 : 'LEFT_HAND',\n",
    "                 9 : 'RIGHT_HIP',\n",
    "                 10: 'RIGHT_KNEE',\n",
    "                 11: 'RIGHT_FOOT'\n",
    "                 12: 'LEFT_HIP',\n",
    "                 13: 'LEFT_KNEE',\n",
    "                 14: 'LEFT_FOOT',\n",
    "                 15: 'HOCKEY GRIP'\n",
    "                 16: 'HOCKEY Heel',\n",
    "                 }\n",
    "\n",
    "connect_map = [[1,2,2,2,2,3,4,6,7,9,10,12,13,15],[2,3,9,12,6,4,5,7,8,10,11,13,14,16]]\n"
   ]
  },
  {
   "cell_type": "code",
   "execution_count": null,
   "metadata": {},
   "outputs": [],
   "source": [
    "def plot_frames(frames_code,reqd_pose_data, frames_pth, acts):\n",
    "    \n",
    "    frames_code = [int(x) for x in frames_code.strip().split('-')]\n",
    "    \n",
    "    for idx,row in enumerate(reqd_pose_data):\n",
    "        posture = row\n",
    "\n",
    "        posture_data = [x.strip() for x in posture.split(',')]\n",
    "\n",
    "        joint_info = {}\n",
    "        for i, n in enumerate(range(1, len(posture_data), 3)):\n",
    "\n",
    "            x = 640 - float(posture_data[n])*640\n",
    "            y = 480 - (float(posture_data[n+1])/1)*480\n",
    "            z = posture_data[n+2]\n",
    "\n",
    "            joint_info[i+1] = [x, y, z]\n",
    "\n",
    "        person_1 = {k:joint_info[k] for k in range(1,16,1)}\n",
    "        #print(person_1)\n",
    "        person_2 = {k-15:joint_info[k] for k in range(16,31,1)}\n",
    "        # print(person_1)\n",
    "\n",
    "        count1 = 15\n",
    "        for i, (x,y,z) in list(person_1.items()):\n",
    "            if x<0 or x>640 or y<0 or y>480:\n",
    "                    count1 -= 1\n",
    "\n",
    "        count2 = 15\n",
    "        for i, (x,y,z) in list(person_2.items()):\n",
    "            if x<0 or x>640 or y<0 or y>480:\n",
    "                    count2 -= 1\n",
    "                    \n",
    "        wt1 , wt2 = acts[idx][0], acts[idx][1]\n",
    "                    \n",
    "#         if frames_code[2]==2:\n",
    "#             wt1, wt2 = wt2, wt1\n",
    "\n",
    "        print(wt1, wt2)\n",
    "        for key, value in person_1.items():\n",
    "            plt.plot(value[0], value[1], 'bo', markersize=2)\n",
    "        for m, n in zip(connect_map[0], connect_map[1]):\n",
    "            plt.plot((person_1[m][0], person_1[n][0]), (person_1[m][1], person_1[n][1]), 'b--', linewidth=5*wt1)\n",
    "\n",
    "        for key, value in person_2.items():\n",
    "            plt.plot(value[0], value[1], 'go', markersize=2)\n",
    "        for m, n in zip(connect_map[0], connect_map[1]):\n",
    "            plt.plot((person_2[m][0], person_2[n][0]), (person_2[m][1], person_2[n][1]), 'g--', linewidth=5*wt2)\n",
    "\n",
    "        plt.xlim(0, 640)\n",
    "        plt.ylim(0, 480)\n",
    "\n",
    "\n",
    "        img = np.array(plt.imread(frames_pth[idx]))\n",
    "        img = img[::-1,:,:]\n",
    "        plt.imshow(img)\n",
    "        plt.pause(0.1)\n",
    "        plt.clf()"
   ]
  },
  {
   "cell_type": "code",
   "execution_count": 2,
   "metadata": {},
   "outputs": [
    {
     "ename": "NameError",
     "evalue": "name 'Model3' is not defined",
     "output_type": "error",
     "traceback": [
      "\u001B[0;31m---------------------------------------------------------------------------\u001B[0m",
      "\u001B[0;31mNameError\u001B[0m                                 Traceback (most recent call last)",
      "\u001B[0;32m/tmp/ipykernel_2856341/3664766476.py\u001B[0m in \u001B[0;36m<module>\u001B[0;34m\u001B[0m\n\u001B[1;32m      2\u001B[0m \u001B[0mmodel_pth\u001B[0m \u001B[0;34m=\u001B[0m \u001B[0;34m'/home/fay/Desktop/Key-Actor-Detection/work_dir/model3axwd/1/0a38f1849b4543eab0388493140430ea/checkpoints/epoch=14-val_acc_epoch=0.6210.ckpt'\u001B[0m\u001B[0;34m\u001B[0m\u001B[0;34m\u001B[0m\u001B[0m\n\u001B[1;32m      3\u001B[0m \u001B[0;34m\u001B[0m\u001B[0m\n\u001B[0;32m----> 4\u001B[0;31m \u001B[0mmodel\u001B[0m \u001B[0;34m=\u001B[0m \u001B[0mModel3\u001B[0m\u001B[0;34m(\u001B[0m\u001B[0meventLSTM\u001B[0m \u001B[0;34m=\u001B[0m \u001B[0;34m{\u001B[0m\u001B[0;34m'hidden_size'\u001B[0m\u001B[0;34m:\u001B[0m\u001B[0;36m256\u001B[0m\u001B[0;34m}\u001B[0m\u001B[0;34m,\u001B[0m \u001B[0mpose_dim\u001B[0m\u001B[0;34m=\u001B[0m\u001B[0;36m30\u001B[0m\u001B[0;34m,\u001B[0m \u001B[0mnum_classes\u001B[0m\u001B[0;34m=\u001B[0m\u001B[0;36m8\u001B[0m\u001B[0;34m,\u001B[0m \u001B[0mattention_type\u001B[0m\u001B[0;34m=\u001B[0m\u001B[0;36m2\u001B[0m\u001B[0;34m)\u001B[0m\u001B[0;34m\u001B[0m\u001B[0;34m\u001B[0m\u001B[0m\n\u001B[0m\u001B[1;32m      5\u001B[0m \u001B[0mckpt\u001B[0m \u001B[0;34m=\u001B[0m \u001B[0mCheckPointer\u001B[0m\u001B[0;34m(\u001B[0m\u001B[0;34m[\u001B[0m\u001B[0mmodel\u001B[0m\u001B[0;34m]\u001B[0m\u001B[0;34m)\u001B[0m\u001B[0;34m\u001B[0m\u001B[0;34m\u001B[0m\u001B[0m\n\u001B[1;32m      6\u001B[0m \u001B[0mckpt\u001B[0m\u001B[0;34m.\u001B[0m\u001B[0mload_checkpoint\u001B[0m\u001B[0;34m(\u001B[0m\u001B[0mmodel_pth\u001B[0m\u001B[0;34m)\u001B[0m\u001B[0;34m\u001B[0m\u001B[0;34m\u001B[0m\u001B[0m\n",
      "\u001B[0;31mNameError\u001B[0m: name 'Model3' is not defined"
     ]
    }
   ],
   "source": [
    "#workdir/1/1\n",
    "model_pth = '/home/fay/Desktop/Key-Actor-Detection/work_dir/model3axwd/1/0a38f1849b4543eab0388493140430ea/checkpoints/epoch=14-val_acc_epoch=0.6210.ckpt'\n",
    "\n",
    "model = Model3(eventLSTM = {'hidden_size':256}, pose_dim=30, num_classes=8, attention_type=2)\n",
    "ckpt = CheckPointer([model])\n",
    "ckpt.load_checkpoint(model_pth)\n",
    "\n",
    "model.cuda()"
   ]
  },
  {
   "cell_type": "code",
   "execution_count": null,
   "metadata": {},
   "outputs": [],
   "source": []
  }
 ],
 "metadata": {
  "kernelspec": {
   "display_name": "Python 3 (ipykernel)",
   "language": "python",
   "name": "python3"
  },
  "language_info": {
   "codemirror_mode": {
    "name": "ipython",
    "version": 3
   },
   "file_extension": ".py",
   "mimetype": "text/x-python",
   "name": "python",
   "nbconvert_exporter": "python",
   "pygments_lexer": "ipython3",
   "version": "3.7.11"
  }
 },
 "nbformat": 4,
 "nbformat_minor": 1
}